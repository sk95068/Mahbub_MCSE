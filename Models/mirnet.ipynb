{
  "nbformat": 4,
  "nbformat_minor": 0,
  "metadata": {
    "colab": {
      "name": "mirnet.ipynb",
      "provenance": []
    },
    "kernelspec": {
      "name": "python3",
      "display_name": "Python 3"
    },
    "language_info": {
      "name": "python"
    }
  },
  "cells": [
    {
      "cell_type": "code",
      "execution_count": null,
      "metadata": {
        "id": "jTSbHldZjwBv"
      },
      "outputs": [],
      "source": [
        ""
      ]
    },
    {
      "cell_type": "code",
      "execution_count": null,
      "metadata": {
        "colab": {
          "base_uri": "https://localhost:8080/"
        },
        "id": "29RzeWj4oVA5",
        "outputId": "ba8beec2-744b-43a1-9f48-1a1043936d83"
      },
      "outputs": [
        {
          "output_type": "stream",
          "name": "stdout",
          "text": [
            "Cloning into 'MIRNet'...\n",
            "remote: Enumerating objects: 251, done.\u001b[K\n",
            "remote: Counting objects: 100% (14/14), done.\u001b[K\n",
            "remote: Compressing objects: 100% (6/6), done.\u001b[K\n",
            "remote: Total 251 (delta 10), reused 8 (delta 8), pack-reused 237\u001b[K\n",
            "Receiving objects: 100% (251/251), 28.13 MiB | 10.98 MiB/s, done.\n",
            "Resolving deltas: 100% (112/112), done.\n",
            "/content/MIRNet\n"
          ]
        }
      ],
      "source": [
        "!git clone https://github.com/soumik12345/MIRNet\n",
        "#Setting up current directory\n",
        "%cd MIRNet"
      ]
    },
    {
      "cell_type": "code",
      "source": [
        ""
      ],
      "metadata": {
        "id": "DPqLynm5j2T-"
      },
      "execution_count": null,
      "outputs": []
    },
    {
      "cell_type": "code",
      "execution_count": null,
      "metadata": {
        "id": "Lp98mZ5WoWuS",
        "colab": {
          "base_uri": "https://localhost:8080/"
        },
        "outputId": "8a664c0f-362b-4bf6-ead0-0ce02b4ff299"
      },
      "outputs": [
        {
          "output_type": "stream",
          "name": "stdout",
          "text": [
            "\u001b[K     |████████████████████████████████| 1.8 MB 14.8 MB/s \n",
            "\u001b[K     |████████████████████████████████| 145 kB 70.0 MB/s \n",
            "\u001b[K     |████████████████████████████████| 181 kB 46.0 MB/s \n",
            "\u001b[K     |████████████████████████████████| 63 kB 1.3 MB/s \n",
            "\u001b[?25h  Building wheel for pathtools (setup.py) ... \u001b[?25l\u001b[?25hdone\n"
          ]
        }
      ],
      "source": [
        "!pip install -q wandb"
      ]
    },
    {
      "cell_type": "code",
      "source": [
        ""
      ],
      "metadata": {
        "id": "OzOJXMJbj5Ct"
      },
      "execution_count": null,
      "outputs": []
    },
    {
      "cell_type": "code",
      "execution_count": null,
      "metadata": {
        "id": "-6xgUFR-ohQZ"
      },
      "outputs": [],
      "source": [
        "from glob import glob  #\n",
        "from PIL import Image  #For image operations\n",
        "from matplotlib import pyplot as plt #for visualization\n",
        "# Importing required dependencies from MIRNet\n",
        "from mirnet.inference import Inferer\n",
        "from mirnet.utils import download_dataset, plot_result\n",
        "import numpy as np # For mathematical computation"
      ]
    },
    {
      "cell_type": "code",
      "source": [
        ""
      ],
      "metadata": {
        "id": "5metrw8Xj51F"
      },
      "execution_count": null,
      "outputs": []
    },
    {
      "cell_type": "code",
      "execution_count": null,
      "metadata": {
        "colab": {
          "base_uri": "https://localhost:8080/"
        },
        "id": "8jwhdsGao1Pr",
        "outputId": "3e6c2503-f90d-44af-cbaf-aec4a5663adc"
      },
      "outputs": [
        {
          "output_type": "stream",
          "name": "stderr",
          "text": [
            "Downloading...\n",
            "From: https://drive.google.com/uc?id=1sUlRD5MTRKKGxtqyYDpTv7T3jOW6aVAL\n",
            "To: /content/MIRNet/low_light_weights_best.h5\n",
            "100%|██████████| 148M/148M [00:01<00:00, 79.0MB/s]\n"
          ]
        }
      ],
      "source": [
        "inferer = Inferer()\n",
        "inferer.download_weights('1sUlRD5MTRKKGxtqyYDpTv7T3jOW6aVAL')\n",
        "inferer.build_model(num_rrg=3, num_mrb=2, channels=64,      weights_path='low_light_weights_best.h5')\n",
        "#inferer.model.summary()"
      ]
    },
    {
      "cell_type": "code",
      "source": [
        ""
      ],
      "metadata": {
        "id": "-_d9VApMj9ik"
      },
      "execution_count": null,
      "outputs": []
    },
    {
      "cell_type": "code",
      "execution_count": null,
      "metadata": {
        "colab": {
          "base_uri": "https://localhost:8080/"
        },
        "id": "-WEw2xlmo6yA",
        "outputId": "1ade9412-f4a0-41e8-a2b4-bef50ac5898c"
      },
      "outputs": [
        {
          "output_type": "stream",
          "name": "stdout",
          "text": [
            "WARNING:tensorflow:Compiled the loaded model, but the compiled metrics have yet to be built. `model.compile_metrics` will be empty until you train or evaluate the model.\n",
            "INFO:tensorflow:Assets written to: mirnet/assets\n"
          ]
        }
      ],
      "source": [
        "inferer.model.save('mirnet')"
      ]
    }
  ]
}
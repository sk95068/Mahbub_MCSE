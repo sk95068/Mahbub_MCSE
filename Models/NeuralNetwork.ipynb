{
  "nbformat": 4,
  "nbformat_minor": 0,
  "metadata": {
    "colab": {
      "name": "NeuralNetwork.ipynb",
      "provenance": []
    },
    "kernelspec": {
      "name": "python3",
      "display_name": "Python 3"
    },
    "language_info": {
      "name": "python"
    }
  },
  "cells": [
    {
      "cell_type": "code",
      "execution_count": null,
      "metadata": {
        "id": "7i3ZtKbHk88z"
      },
      "outputs": [],
      "source": [
        "class Net(nn.Module):\n",
        "  def __init__(self):\n",
        "    super(Net,self).__init__()\n",
        "    self.conv1 = nn.Conv2d(in_channels=3, out_channels=8, kernel_size =2, stride=1, padding=1)\n",
        "    self.bn1 = nn.BatchNorm2d(8)\n",
        "    self.pool1 = nn.MaxPool2d(2,2)\n",
        "    \n",
        "    self.conv2 = nn.Conv2d(in_channels=8, out_channels=16, kernel_size =2, stride=1, padding=1)\n",
        "    self.bn2 = nn.BatchNorm2d(16)\n",
        "    self.pool2 = nn.MaxPool2d(2,2)\n",
        "\n",
        "    self.conv3 = nn.Conv2d(in_channels=16, out_channels=32, kernel_size =2, stride=1, padding=1)\n",
        "    self.bn3 = nn.BatchNorm2d(32)\n",
        "    self.dropout = nn.Dropout(0.12)\n",
        "    self.pool3 = nn.MaxPool2d(2,2)\n",
        "\n",
        "    self.conv4 = nn.Conv2d(in_channels=32, out_channels=64, kernel_size =2, stride=1, padding=1)\n",
        "    self.bn4= nn.BatchNorm2d(64)\n",
        "\n",
        "    self.conv5= nn.Conv2d(in_channels=64, out_channels=128, kernel_size =2, stride=1, padding=1)\n",
        "    self.bn5= nn.BatchNorm2d(128)\n",
        "    \n",
        "\n",
        "    self.fc1=nn.Linear(128*60*60, 120)\n",
        "    self.fc1=nn.Linear(120, 84)\n",
        "    self.fc1=nn.Linear(84, 2)\n",
        "\n",
        "\n",
        "  def forward(self, input):\n",
        "    output =F.relu(self.bn1(self.conv1(input)))\n",
        "    output = self.pool1(output)\n",
        "    output =F.relu(self.bn2(self.conv2(output)))\n",
        "    output = self.pool2(output)\n",
        "    output =F.relu(self.bn3(self.conv3(output)))\n",
        "    output =self.dropout(output)\n",
        "    output = self.pool3(output)\n",
        "    output =F.relu(self.bn4(self.conv4(output)))\n",
        "    output =F.relu(self.bn5(self.conv5(output)))\n",
        "    output =output.view(-1, 128*60*60)\n",
        "    output =F.relu(self.fc1(output))\n",
        "    output =F.relu(self.fc2(output))\n",
        "    output =self.fc3(output)\n",
        "    return output\n",
        "\n",
        "model = Net()    \n",
        "\n",
        "    "
      ]
    }
  ]
}